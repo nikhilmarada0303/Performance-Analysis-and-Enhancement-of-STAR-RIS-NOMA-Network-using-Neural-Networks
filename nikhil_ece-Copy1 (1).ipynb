{
 "cells": [
  {
   "cell_type": "code",
   "execution_count": 73,
   "id": "a5a7c0fe-2552-418c-a4ef-a8488c933c87",
   "metadata": {
    "id": "a5a7c0fe-2552-418c-a4ef-a8488c933c87"
   },
   "outputs": [],
   "source": [
    "import torch\n",
    "import numpy as np\n",
    "import re\n",
    "from tqdm import tqdm\n",
    "import pandas as pd"
   ]
  },
  {
   "cell_type": "code",
   "execution_count": 51,
   "id": "KwU-Bvp6mBSW",
   "metadata": {
    "colab": {
     "base_uri": "https://localhost:8080/"
    },
    "id": "KwU-Bvp6mBSW",
    "outputId": "65c59713-4ab7-4c0a-8e42-4fae0d4e98ca"
   },
   "outputs": [
    {
     "data": {
      "text/plain": [
       "device(type='cpu')"
      ]
     },
     "execution_count": 51,
     "metadata": {},
     "output_type": "execute_result"
    }
   ],
   "source": [
    "device = torch.device(\"cuda\" if torch.cuda.is_available() else \"cpu\")\n",
    "device"
   ]
  },
  {
   "cell_type": "code",
   "execution_count": 52,
   "id": "bb9314d5-c3df-40b1-85ee-dc50949a4258",
   "metadata": {
    "id": "bb9314d5-c3df-40b1-85ee-dc50949a4258"
   },
   "outputs": [],
   "source": [
    "# Define parameters\n",
    "num_particles = 10000\n",
    "snr_dB = torch.arange(0, 31, 2, device=device)\n",
    "v = 2.0\n",
    "sigma = 1\n",
    "beta = 1\n",
    "iterations = 1\n",
    "d_si = 30\n",
    "d_it = 15\n",
    "d_ir = 5\n",
    "M = 100"
   ]
  },
  {
   "cell_type": "code",
   "execution_count": 53,
   "id": "06e4dd98-b3bd-487f-876b-58de9958f714",
   "metadata": {
    "id": "06e4dd98-b3bd-487f-876b-58de9958f714"
   },
   "outputs": [],
   "source": [
    "# Define the objective function\n",
    "def calculate_objective(params, snr_dB, v, sigma, beta, iterations, d_si, d_it, d_ir, M):\n",
    "    alpha_t = params.item()\n",
    "    alpha_r = 1-alpha_t\n",
    "\n",
    "    capSTAR = torch.zeros(iterations, len(snr_dB), device=device)\n",
    "    capOMA = torch.zeros(iterations, len(snr_dB), device=device)\n",
    "\n",
    "    for jj in range(iterations):\n",
    "        for ii, snr_db in enumerate(snr_dB):\n",
    "            P = 10 ** (snr_db.item() / 10) * sigma\n",
    "            Pr = 0.5 * P\n",
    "            Pt = 0.5 * P\n",
    "\n",
    "            # Channel coefficients for STAR-RIS\n",
    "            hsi = torch.sqrt(torch.tensor(beta * d_si ** (-v))) * (torch.randn(2 * M) + 1j * torch.randn(2 * M))\n",
    "            hit = torch.sqrt(torch.tensor(beta * d_it ** (-v))) * (torch.randn(2 * M) + 1j * torch.randn(2 * M))\n",
    "            hir = torch.sqrt(torch.tensor(beta * d_ir ** (-v))) * (torch.randn(2 * M) + 1j * torch.randn(2 * M))\n",
    "\n",
    "            hsi = hsi.to(device)\n",
    "            hit = hit.to(device)\n",
    "            hir = hir.to(device)\n",
    "\n",
    "            # Phase coefficients for ES STAR-RIS\n",
    "            theta_t = torch.linspace(0, 2 * np.pi, 2 * M, device=device)\n",
    "            betatES = torch.rand(2 * M, device=device)\n",
    "            PhitES = torch.diag(torch.sqrt(betatES) * torch.exp(1j * theta_t), 0)\n",
    "\n",
    "            theta_r = torch.linspace(0, 2 * np.pi, 2 * M, device=device)\n",
    "            betarES = 1 - betatES\n",
    "            PhirES = torch.diag(torch.sqrt(betarES) * torch.exp(1j * theta_r), 0)\n",
    "\n",
    "            # SNR calculation for STAR protocol\n",
    "            N3 = P * alpha_t * (torch.abs(torch.matmul(torch.matmul(hit.t(), PhitES), hsi)) ** 2)\n",
    "            N4 = P * alpha_r * (torch.abs(torch.matmul(torch.matmul(hir.t(), PhirES), hsi)) ** 2)\n",
    "            D3 = P * alpha_t * (torch.abs(torch.matmul(torch.matmul(hit.t(), PhitES), hsi)) ** 2) + sigma\n",
    "            gaamaSTAR = torch.min(N3 / D3, N4 / sigma)\n",
    "\n",
    "            # SNR calculation for OMA protocol\n",
    "            N3_OMA = Pt * (torch.abs(torch.matmul(torch.matmul(hit.t(), PhitES), hsi)) ** 2)\n",
    "            N4_OMA = Pr * (torch.abs(torch.matmul(torch.matmul(hir.t(), PhirES), hsi)) ** 2)\n",
    "            gaamaOMA = torch.min(N3_OMA / sigma, N4_OMA / sigma)\n",
    "\n",
    "    return gaamaSTAR, gaamaOMA"
   ]
  },
  {
   "cell_type": "code",
   "execution_count": 54,
   "id": "1b64dd39-f4e4-4b74-baf4-3f70cf3b8649",
   "metadata": {},
   "outputs": [],
   "source": [
    "# Sample text containing optimized parameters\n",
    "text = \"\"\"\n",
    "Optimized Parameters:\n",
    "Optimized alpha_t: [0.780085]\n",
    "Optimized alpha_r: [0.21991497]\n",
    "\n",
    "Optimized Parameters:\n",
    "Optimized alpha_t: [0.7897605]\n",
    "Optimized alpha_r: [0.21023953]\n",
    "\n",
    "Optimized Parameters:\n",
    "Optimized alpha_t: [0.78465325]\n",
    "Optimized alpha_r: [0.21534675]\n",
    "\n",
    "Optimized Parameters:\n",
    "Optimized alpha_t: [0.7915346]\n",
    "Optimized alpha_r: [0.2084654]\n",
    "\n",
    "Optimized Parameters:\n",
    "Optimized alpha_t: [0.76778233]\n",
    "Optimized alpha_r: [0.23221767]\n",
    "\n",
    "Optimized Parameters:\n",
    "Optimized alpha_t: [0.787471]\n",
    "Optimized alpha_r: [0.212529]\n",
    "\n",
    "Optimized Parameters:\n",
    "Optimized alpha_t: [0.78101265]\n",
    "Optimized alpha_r: [0.21898735]\n",
    "\n",
    "Optimized Parameters:\n",
    "Optimized alpha_t: [0.77952933]\n",
    "Optimized alpha_r: [0.22047067]\n",
    "\n",
    "Optimized Parameters:\n",
    "Optimized alpha_t: [0.77609164]\n",
    "Optimized alpha_r: [0.22390836]\n",
    "\n",
    "Optimized Parameters:\n",
    "Optimized alpha_t: [0.7758649]\n",
    "Optimized alpha_r: [0.2241351]\n",
    "\n",
    "Optimized Parameters:\n",
    "Optimized alpha_t: [0.7730439]\n",
    "Optimized alpha_r: [0.22695613]\n",
    "\n",
    "Optimized Parameters:\n",
    "Optimized alpha_t: [0.7668829]\n",
    "Optimized alpha_r: [0.2331171]\n",
    "\n",
    "Optimized Parameters:\n",
    "Optimized alpha_t: [0.7741247]\n",
    "Optimized alpha_r: [0.22587532]\n",
    "\n",
    "Optimized Parameters:\n",
    "Optimized alpha_t: [0.7807999]\n",
    "Optimized alpha_r: [0.21920007]\n",
    "\n",
    "Optimized Parameters:\n",
    "Optimized alpha_t: [0.7797874]\n",
    "Optimized alpha_r: [0.22021258]\n",
    "\n",
    "Optimized Parameters:\n",
    "Optimized alpha_t: [0.77021563]\n",
    "Optimized alpha_r: [0.22978437]\n",
    "\n",
    "Optimized Parameters:\n",
    "Optimized alpha_t: [0.78865063]\n",
    "Optimized alpha_r: [0.21134937]\n",
    "\n",
    "Optimized Parameters:\n",
    "Optimized alpha_t: [0.7853358]\n",
    "Optimized alpha_r: [0.21466422]\n",
    "\n",
    "Optimized Parameters:\n",
    "Optimized alpha_t: [0.78431654]\n",
    "Optimized alpha_r: [0.21568346]\n",
    "\n",
    "Optimized Parameters:\n",
    "Optimized alpha_t: [0.77766037]\n",
    "Optimized alpha_r: [0.22233963]\n",
    "\"\"\""
   ]
  },
  {
   "cell_type": "code",
   "execution_count": 55,
   "id": "0de0376b-40d7-4660-806a-7719a396aa97",
   "metadata": {},
   "outputs": [
    {
     "name": "stdout",
     "output_type": "stream",
     "text": [
      "Optimized alpha_t values: [0.780085, 0.7897605, 0.78465325, 0.7915346, 0.76778233, 0.787471, 0.78101265, 0.77952933, 0.77609164, 0.7758649, 0.7730439, 0.7668829, 0.7741247, 0.7807999, 0.7797874, 0.77021563, 0.78865063, 0.7853358, 0.78431654, 0.77766037]\n"
     ]
    }
   ],
   "source": [
    "# Extracting alpha_t values using regex\n",
    "alpha_t_values = re.findall(r'Optimized alpha_t: \\[(.*?)\\]', text)\n",
    "\n",
    "# Converting the extracted strings to floats\n",
    "alpha_t_values = [float(value) for value in alpha_t_values]\n",
    "\n",
    "print(\"Optimized alpha_t values:\", alpha_t_values)"
   ]
  },
  {
   "cell_type": "code",
   "execution_count": 56,
   "id": "4252531c-16e5-40c3-a86e-0cf78206a7f6",
   "metadata": {},
   "outputs": [],
   "source": [
    "alpha_t_values = np.array(alpha_t_values)"
   ]
  },
  {
   "cell_type": "code",
   "execution_count": 57,
   "id": "ef4e6f46-fb83-4496-9cbe-a95c317e15cc",
   "metadata": {},
   "outputs": [],
   "source": [
    "min_ = -0.02\n",
    "max_ = 0.01\n",
    "random_vals = min_ + (np.random.randn(num_particles) * (max_ - min_))"
   ]
  },
  {
   "cell_type": "code",
   "execution_count": 58,
   "id": "3d9afd72-d761-473c-b209-61f747a6ed60",
   "metadata": {},
   "outputs": [],
   "source": [
    "alpha_t_values = random_vals + np.tile(alpha_t_values, num_particles//20)\n",
    "alpha_r_values = 1 - alpha_t_values"
   ]
  },
  {
   "cell_type": "code",
   "execution_count": 59,
   "id": "b75c39ae-220b-4037-96a7-821692c5696e",
   "metadata": {},
   "outputs": [
    {
     "data": {
      "text/plain": [
       "10000"
      ]
     },
     "execution_count": 59,
     "metadata": {},
     "output_type": "execute_result"
    }
   ],
   "source": [
    "len(alpha_t_values)"
   ]
  },
  {
   "cell_type": "code",
   "execution_count": 60,
   "id": "57baa30f-791c-4db2-b8fb-4270b62b4106",
   "metadata": {
    "colab": {
     "base_uri": "https://localhost:8080/"
    },
    "id": "57baa30f-791c-4db2-b8fb-4270b62b4106",
    "outputId": "d3518442-3e34-462a-f9e9-0267a2cdbf13"
   },
   "outputs": [
    {
     "name": "stderr",
     "output_type": "stream",
     "text": [
      "100%|████████████████████████████████████████████████████████| 10000/10000 [05:12<00:00, 32.04it/s]\n"
     ]
    }
   ],
   "source": [
    "# Optimization loop\n",
    "snrs = []\n",
    "for i in tqdm(range(num_particles)):\n",
    "    snr = calculate_objective(torch.tensor(alpha_t_values[i]), snr_dB, v, \n",
    "                               sigma, beta, iterations, d_si, d_it, d_ir, M)\n",
    "    snrs.append(snr)\n"
   ]
  },
  {
   "cell_type": "code",
   "execution_count": 65,
   "id": "3b727949-8042-4f51-8e9b-ed01a575342e",
   "metadata": {},
   "outputs": [],
   "source": [
    "snrsdb = abs(10 * torch.log10(torch.tensor(snrs)))"
   ]
  },
  {
   "cell_type": "code",
   "execution_count": 88,
   "id": "24fddbf3-8117-46ed-b944-df6772d04b6c",
   "metadata": {},
   "outputs": [
    {
     "data": {
      "text/plain": [
       "torch.Size([10000, 2])"
      ]
     },
     "execution_count": 88,
     "metadata": {},
     "output_type": "execute_result"
    }
   ],
   "source": [
    "snrsdb.shape"
   ]
  },
  {
   "cell_type": "code",
   "execution_count": 90,
   "id": "e4da89be-1077-4eb8-9d9d-44893ea87886",
   "metadata": {},
   "outputs": [
    {
     "data": {
      "text/plain": [
       "(10000, 2)"
      ]
     },
     "execution_count": 90,
     "metadata": {},
     "output_type": "execute_result"
    }
   ],
   "source": [
    "snrsdb.numpy().shape"
   ]
  },
  {
   "cell_type": "code",
   "execution_count": 92,
   "id": "1803cd63-5471-4a54-a4c0-05752b729eea",
   "metadata": {},
   "outputs": [
    {
     "data": {
      "text/plain": [
       "array([[ 0.75567628,  4.86194038,  4.9393487 ],\n",
       "       [ 0.79939842,  2.90011024,  1.81468427],\n",
       "       [ 0.79532093,  0.90295041,  4.34618568],\n",
       "       ...,\n",
       "       [ 0.74302235, 14.52858067, 11.63783455],\n",
       "       [ 0.75988692,  2.54689956,  0.83557165],\n",
       "       [ 0.73892132, 11.51142502, 12.88969421]])"
      ]
     },
     "execution_count": 92,
     "metadata": {},
     "output_type": "execute_result"
    }
   ],
   "source": []
  },
  {
   "cell_type": "code",
   "execution_count": 99,
   "id": "b7ef3a7f-ac94-4a53-9658-2851d58f4cd4",
   "metadata": {},
   "outputs": [],
   "source": [
    "data = np.concatenate([np.expand_dims(alpha_t_values, -1), \n",
    "                       np.expand_dims(alpha_r_values, -1), \n",
    "                       snrsdb.numpy()], axis=1)"
   ]
  },
  {
   "cell_type": "code",
   "execution_count": 101,
   "id": "0a4e3464-9044-4724-8e9e-a0c563db22b1",
   "metadata": {},
   "outputs": [],
   "source": [
    "df = pd.DataFrame(data,columns=[\"alpha_t\", \"alpha_r\", \"SNR_STAR\", \"SNR_OMA\"])"
   ]
  },
  {
   "cell_type": "code",
   "execution_count": 103,
   "id": "322fe5dc-ec56-4062-9d53-01a47f516496",
   "metadata": {},
   "outputs": [],
   "source": [
    "df.to_csv(\"ece-snrs.csv\", index=None)"
   ]
  },
  {
   "cell_type": "code",
   "execution_count": null,
   "id": "02a37282-0296-4ae8-b53c-4ac2efa7602f",
   "metadata": {},
   "outputs": [],
   "source": []
  }
 ],
 "metadata": {
  "accelerator": "GPU",
  "colab": {
   "gpuType": "T4",
   "provenance": []
  },
  "kernelspec": {
   "display_name": "Python 3 (ipykernel)",
   "language": "python",
   "name": "python3"
  },
  "language_info": {
   "codemirror_mode": {
    "name": "ipython",
    "version": 3
   },
   "file_extension": ".py",
   "mimetype": "text/x-python",
   "name": "python",
   "nbconvert_exporter": "python",
   "pygments_lexer": "ipython3",
   "version": "3.10.1"
  }
 },
 "nbformat": 4,
 "nbformat_minor": 5
}
